{
 "cells": [
  {
   "cell_type": "markdown",
   "metadata": {},
   "source": [
    "## Module submission header\n",
    "### Submission preparation instructions \n",
    "_Completion of this header is mandatory, subject to a 2-point deduction to the assignment._ Only add plain text in the designated areas, i.e., replacing the relevant 'NA's. You must fill out all group member Names and Drexel email addresses in the below markdown list, under header __Module submission group__. It is required to fill out descriptive notes pertaining to any tutoring support received in the completion of this submission under the __Additional submission comments__ section at the bottom of the header. If no tutoring support was received, leave NA in place. You may as well list other optional comments pertaining to the submission at bottom. _Any distruption of this header's formatting will make your group liable to the 2-point deduction._\n",
    "\n",
    "### Module submission group\n",
    "- Group member 1\n",
    "    - Name: Greg Morgan\n",
    "    - Email: gm655@drexel.edu\n",
    "- Group member 2\n",
    "    - Name: Trev Pawlewicz\n",
    "    - Email: tmp365@drexel.edu\n",
    "- Group member 3\n",
    "    - Name: Harsh Bolakani\n",
    "    - Email: hvb36@drexel.edu\n",
    "\n",
    "### Additional submission comments\n",
    "- Tutoring support received: NA\n",
    "- Other (other): NA"
   ]
  },
  {
   "cell_type": "markdown",
   "metadata": {},
   "source": [
    "# Project - Heart Health Analysis"
   ]
  },
  {
   "cell_type": "markdown",
   "metadata": {},
   "source": [
    "## Part A: Exploratory Data Analysis"
   ]
  },
  {
   "cell_type": "markdown",
   "metadata": {},
   "source": [
    "In this section, we will be doing EDA on the data set chosen for our project (https://www.kaggle.com/datasets/fedesoriano/heart-failure-prediction) \n",
    "This data set includes a patient's medical data(resting hr, cholestorl levels, blood preseesion, blood sugar levels etc). Our Goal in this section is to determine factors that contribute to heart fialure and find correlatiaon of various factors"
   ]
  },
  {
   "cell_type": "markdown",
   "metadata": {},
   "source": [
    "__A1.__ Load the csv data into a pandas data frame"
   ]
  },
  {
   "cell_type": "code",
   "execution_count": 8,
   "metadata": {},
   "outputs": [],
   "source": [
    "#imports\n",
    "import pandas as pd\n",
    "from matplotlib import pyplot as plt\n",
    "import numpy as np\n",
    "import random\n",
    "import numpy.matlib\n",
    "from sklearn.preprocessing import scale\n",
    "from sklearn.decomposition import PCA\n",
    "from sklearn.metrics import accuracy_score"
   ]
  },
  {
   "cell_type": "code",
   "execution_count": 1,
   "metadata": {},
   "outputs": [],
   "source": [
    "\n",
    "def load_data(path_to_csv):\n",
    "    \n",
    "    df = pd.read_csv(path_to_csv, sep = \",\", header =0)\n",
    "    \n",
    "    return df\n"
   ]
  },
  {
   "cell_type": "code",
   "execution_count": 31,
   "metadata": {},
   "outputs": [
    {
     "name": "stdout",
     "output_type": "stream",
     "text": [
      "   Age  RestingBP  Cholesterol  FastingBS  MaxHR  Oldpeak  HeartDisease  \\\n",
      "0   40        140          289          0    172      0.0             0   \n",
      "1   49        160          180          0    156      1.0             1   \n",
      "2   37        130          283          0     98      0.0             0   \n",
      "3   48        138          214          0    108      1.5             1   \n",
      "4   54        150          195          0    122      0.0             0   \n",
      "\n",
      "   Sex_F  Sex_M  ChestPainType_ASY  ...  ChestPainType_NAP  ChestPainType_TA  \\\n",
      "0      0      1                  0  ...                  0                 0   \n",
      "1      1      0                  0  ...                  1                 0   \n",
      "2      0      1                  0  ...                  0                 0   \n",
      "3      1      0                  1  ...                  0                 0   \n",
      "4      0      1                  0  ...                  1                 0   \n",
      "\n",
      "   RestingECG_LVH  RestingECG_Normal  RestingECG_ST  ExerciseAngina_N  \\\n",
      "0               0                  1              0                 1   \n",
      "1               0                  1              0                 1   \n",
      "2               0                  0              1                 1   \n",
      "3               0                  1              0                 0   \n",
      "4               0                  1              0                 1   \n",
      "\n",
      "   ExerciseAngina_Y  ST_Slope_Down  ST_Slope_Flat  ST_Slope_Up  \n",
      "0                 0              0              0            1  \n",
      "1                 0              0              1            0  \n",
      "2                 0              0              0            1  \n",
      "3                 1              0              1            0  \n",
      "4                 0              0              0            1  \n",
      "\n",
      "[5 rows x 21 columns]\n"
     ]
    }
   ],
   "source": [
    "# A1:SanityCheck\n",
    "\n",
    "# Load the data using our function\n",
    "medical_data = load_data('heart.csv')\n",
    "medical_data = pd.get_dummies(medical_data)\n",
    "\n",
    "print(medical_data.head())"
   ]
  },
  {
   "cell_type": "markdown",
   "metadata": {},
   "source": [
    "__A1(Data Summary)__. Let us look at some high level information abut the data. Data information, Total rows, Total number of Girls and Boys etc."
   ]
  },
  {
   "cell_type": "code",
   "execution_count": 33,
   "metadata": {},
   "outputs": [
    {
     "name": "stdout",
     "output_type": "stream",
     "text": [
      "<class 'pandas.core.frame.DataFrame'>\n",
      "RangeIndex: 918 entries, 0 to 917\n",
      "Data columns (total 21 columns):\n",
      " #   Column             Non-Null Count  Dtype  \n",
      "---  ------             --------------  -----  \n",
      " 0   Age                918 non-null    int64  \n",
      " 1   RestingBP          918 non-null    int64  \n",
      " 2   Cholesterol        918 non-null    int64  \n",
      " 3   FastingBS          918 non-null    int64  \n",
      " 4   MaxHR              918 non-null    int64  \n",
      " 5   Oldpeak            918 non-null    float64\n",
      " 6   HeartDisease       918 non-null    int64  \n",
      " 7   Sex_F              918 non-null    uint8  \n",
      " 8   Sex_M              918 non-null    uint8  \n",
      " 9   ChestPainType_ASY  918 non-null    uint8  \n",
      " 10  ChestPainType_ATA  918 non-null    uint8  \n",
      " 11  ChestPainType_NAP  918 non-null    uint8  \n",
      " 12  ChestPainType_TA   918 non-null    uint8  \n",
      " 13  RestingECG_LVH     918 non-null    uint8  \n",
      " 14  RestingECG_Normal  918 non-null    uint8  \n",
      " 15  RestingECG_ST      918 non-null    uint8  \n",
      " 16  ExerciseAngina_N   918 non-null    uint8  \n",
      " 17  ExerciseAngina_Y   918 non-null    uint8  \n",
      " 18  ST_Slope_Down      918 non-null    uint8  \n",
      " 19  ST_Slope_Flat      918 non-null    uint8  \n",
      " 20  ST_Slope_Up        918 non-null    uint8  \n",
      "dtypes: float64(1), int64(6), uint8(14)\n",
      "memory usage: 62.9 KB\n",
      "None\n"
     ]
    },
    {
     "data": {
      "text/plain": [
       "<AxesSubplot:>"
      ]
     },
     "execution_count": 33,
     "metadata": {},
     "output_type": "execute_result"
    },
    {
     "data": {
      "image/png": "[encoded data removed]",
      "text/plain": [
       "<Figure size 432x288 with 1 Axes>"
      ]
     },
     "metadata": {
      "needs_background": "light"
     },
     "output_type": "display_data"
    }
   ],
   "source": [
    "print(medical_data.info())\n",
    "medical_data[\"HeartDisease\"].value_counts().plot(kind=\"bar\", color=[\"blue\",\"green\"])"
   ]
  },
  {
   "cell_type": "markdown",
   "metadata": {},
   "source": [
    "__A2__. We will now look at the correlation matrix and find which features correlate with the target value(HeartDisease)"
   ]
  },
  {
   "cell_type": "code",
   "execution_count": 16,
   "metadata": {},
   "outputs": [
    {
     "data": {
      "text/plain": [
       "<AxesSubplot:title={'center':'correlation with heart disease'}>"
      ]
     },
     "execution_count": 16,
     "metadata": {},
     "output_type": "execute_result"
    },
    {
     "data": {
      "image/png": "[encoded data removed]",
      "text/plain": [
       "<Figure size 1296x576 with 1 Axes>"
      ]
     },
     "metadata": {
      "needs_background": "light"
     },
     "output_type": "display_data"
    }
   ],
   "source": [
    "data_corr = medical_data.corr()\n",
    "medical_data.corrwith(medical_data[\"HeartDisease\"]).plot(kind='bar', grid=True, figsize=(18,8),title=\"correlation with heart disease\")"
   ]
  },
  {
   "cell_type": "markdown",
   "metadata": {},
   "source": [
    "__A3__. Next we will train a neural network to train a clasasification model"
   ]
  },
  {
   "cell_type": "code",
   "execution_count": 11,
   "metadata": {},
   "outputs": [
    {
     "name": "stdout",
     "output_type": "stream",
     "text": [
      "Collecting torch\n",
      "  Downloading torch-2.0.1-cp38-none-macosx_10_9_x86_64.whl (143.1 MB)\n",
      "\u001b[K     |████████████████████████████████| 143.1 MB 8.2 MB/s eta 0:00:011\n",
      "\u001b[?25hCollecting torchvision\n",
      "  Downloading torchvision-0.15.2-cp38-cp38-macosx_10_9_x86_64.whl (1.5 MB)\n",
      "\u001b[K     |████████████████████████████████| 1.5 MB 20.4 MB/s eta 0:00:01\n",
      "\u001b[?25hRequirement already satisfied: typing-extensions in /Users/hbolak650/anaconda3/lib/python3.8/site-packages (from torch) (4.4.0)\n",
      "Requirement already satisfied: filelock in /Users/hbolak650/anaconda3/lib/python3.8/site-packages (from torch) (3.8.0)\n",
      "Requirement already satisfied: networkx in /Users/hbolak650/anaconda3/lib/python3.8/site-packages (from torch) (2.5)\n",
      "Requirement already satisfied: sympy in /Users/hbolak650/anaconda3/lib/python3.8/site-packages (from torch) (1.6.2)\n",
      "Requirement already satisfied: jinja2 in /Users/hbolak650/anaconda3/lib/python3.8/site-packages (from torch) (2.11.2)\n",
      "Requirement already satisfied: numpy in /Users/hbolak650/anaconda3/lib/python3.8/site-packages (from torchvision) (1.19.2)\n",
      "Requirement already satisfied: pillow!=8.3.*,>=5.3.0 in /Users/hbolak650/anaconda3/lib/python3.8/site-packages (from torchvision) (8.0.1)\n",
      "Requirement already satisfied: requests in /Users/hbolak650/anaconda3/lib/python3.8/site-packages (from torchvision) (2.24.0)\n",
      "Requirement already satisfied: decorator>=4.3.0 in /Users/hbolak650/anaconda3/lib/python3.8/site-packages (from networkx->torch) (4.4.2)\n",
      "Requirement already satisfied: mpmath>=0.19 in /Users/hbolak650/anaconda3/lib/python3.8/site-packages (from sympy->torch) (1.1.0)\n",
      "Requirement already satisfied: MarkupSafe>=0.23 in /Users/hbolak650/anaconda3/lib/python3.8/site-packages (from jinja2->torch) (1.1.1)\n",
      "Requirement already satisfied: certifi>=2017.4.17 in /Users/hbolak650/anaconda3/lib/python3.8/site-packages (from requests->torchvision) (2020.6.20)\n",
      "Requirement already satisfied: urllib3!=1.25.0,!=1.25.1,<1.26,>=1.21.1 in /Users/hbolak650/anaconda3/lib/python3.8/site-packages (from requests->torchvision) (1.25.11)\n",
      "Requirement already satisfied: idna<3,>=2.5 in /Users/hbolak650/anaconda3/lib/python3.8/site-packages (from requests->torchvision) (2.10)\n",
      "Requirement already satisfied: chardet<4,>=3.0.2 in /Users/hbolak650/anaconda3/lib/python3.8/site-packages (from requests->torchvision) (3.0.4)\n",
      "Installing collected packages: torch, torchvision\n",
      "Successfully installed torch-2.0.1 torchvision-0.15.2\n"
     ]
    }
   ],
   "source": [
    "!pip3 install torch torchvision"
   ]
  },
  {
   "cell_type": "code",
   "execution_count": 34,
   "metadata": {},
   "outputs": [],
   "source": [
    "import torch\n",
    "\n",
    "use_cuda = torch.cuda.is_available()\n",
    "device = torch.device(\"cuda\" if use_cuda else \"cpu\")\n",
    "\n",
    "class Dataset(torch.utils.data.Dataset):\n",
    "\n",
    "    def __init__(self, df):\n",
    "        self.labels = [0 if label == 0 else 1 for label in df['HeartDisease']]\n",
    "        self.features = df.drop(columns=['HeartDisease'], axis=1).values.tolist()\n",
    "\n",
    "    def classes(self):\n",
    "        return self.labels\n",
    "\n",
    "    def __len__(self):\n",
    "        return len(self.labels)\n",
    "\n",
    "    def get_batch_labels(self, idx):\n",
    "        return np.array(self.labels[idx])\n",
    "\n",
    "    def get_batch_features(self, idx):\n",
    "        return np.array(self.features[idx])\n",
    "\n",
    "    def __getitem__(self, idx):\n",
    "        batch_features = self.get_batch_features(idx)\n",
    "        batch_y = self.get_batch_labels(idx)\n",
    "\n",
    "        return batch_features, batch_y"
   ]
  },
  {
   "cell_type": "code",
   "execution_count": 45,
   "metadata": {},
   "outputs": [],
   "source": [
    "def train_loop(dataloader, model, loss_fn, optimizer):\n",
    "    size = len(dataloader.dataset)\n",
    "    # Set the model to training mode - important for batch normalization and dropout layers\n",
    "    # Unnecessary in this situation but added for best practices\n",
    "    model.train()\n",
    "    for batch, (X, y) in enumerate(dataloader):\n",
    "        # Compute prediction and loss\n",
    "        X = X.to(device)\n",
    "        y = y.to(device)\n",
    "        pred = model(X.float())\n",
    "        loss = loss_fn(pred, y.long())\n",
    "\n",
    "        # Backpropagation\n",
    "        loss.backward()\n",
    "        optimizer.step()\n",
    "        optimizer.zero_grad()\n",
    "\n",
    "        if batch % 100 == 0:\n",
    "            loss, current = loss.item(), (batch + 1) * len(X)\n",
    "            print(f\"loss: {loss:>7f}  [{current:>5d}/{size:>5d}]\")\n",
    "\n",
    "\n",
    "def test_loop(dataloader, model, loss_fn):\n",
    "    # Set the model to evaluation mode - important for batch normalization and dropout layers\n",
    "    # Unnecessary in this situation but added for best practices\n",
    "    model.eval()\n",
    "    size = len(dataloader.dataset)\n",
    "    num_batches = len(dataloader)\n",
    "    test_loss, correct = 0, 0\n",
    "\n",
    "    # Evaluating the model with torch.no_grad() ensures that no gradients are computed during test mode\n",
    "    # also serves to reduce unnecessary gradient computations and memory usage for tensors with requires_grad=True\n",
    "    with torch.no_grad():\n",
    "        for X, y in dataloader:\n",
    "            X = X.to(device)\n",
    "            y = y.to(device)\n",
    "            pred = model(X.float())\n",
    "            test_loss += loss_fn(pred, y.long()).item()\n",
    "            correct += (pred.argmax(1) == y).type(torch.float).sum().item()\n",
    "\n",
    "    test_loss /= num_batches\n",
    "    correct /= size\n",
    "    print(f\"Test Error: \\n Accuracy: {(100*correct):>0.1f}%, Avg loss: {test_loss:>8f} \\n\")"
   ]
  },
  {
   "cell_type": "code",
   "execution_count": 70,
   "metadata": {},
   "outputs": [
    {
     "name": "stdout",
     "output_type": "stream",
     "text": [
      "<generator object Module.parameters at 0x7ff3f3e837b0>\n",
      "Epoch 1\n",
      "-------------------------------\n",
      "loss: 0.951763  [    2/  734]\n",
      "loss: 0.661364  [  202/  734]\n",
      "loss: 0.695567  [  402/  734]\n",
      "loss: 0.396346  [  602/  734]\n",
      "Test Error: \n",
      " Accuracy: 58.2%, Avg loss: 0.627000 \n",
      "\n",
      "Epoch 2\n",
      "-------------------------------\n",
      "loss: 0.598225  [    2/  734]\n",
      "loss: 0.292811  [  202/  734]\n",
      "loss: 0.591405  [  402/  734]\n",
      "loss: 0.706331  [  602/  734]\n",
      "Test Error: \n",
      " Accuracy: 66.8%, Avg loss: 0.566336 \n",
      "\n",
      "Epoch 3\n",
      "-------------------------------\n",
      "loss: 0.453973  [    2/  734]\n",
      "loss: 0.709848  [  202/  734]\n",
      "loss: 0.390940  [  402/  734]\n",
      "loss: 1.037565  [  602/  734]\n",
      "Test Error: \n",
      " Accuracy: 81.0%, Avg loss: 0.554431 \n",
      "\n",
      "Epoch 4\n",
      "-------------------------------\n",
      "loss: 0.505157  [    2/  734]\n",
      "loss: 1.793695  [  202/  734]\n",
      "loss: 0.464431  [  402/  734]\n",
      "loss: 0.468587  [  602/  734]\n",
      "Test Error: \n",
      " Accuracy: 83.2%, Avg loss: 0.526103 \n",
      "\n",
      "Epoch 5\n",
      "-------------------------------\n",
      "loss: 0.207779  [    2/  734]\n",
      "loss: 0.455965  [  202/  734]\n",
      "loss: 0.262357  [  402/  734]\n",
      "loss: 0.679250  [  602/  734]\n",
      "Test Error: \n",
      " Accuracy: 82.1%, Avg loss: 0.444782 \n",
      "\n",
      "Epoch 6\n",
      "-------------------------------\n",
      "loss: 0.220091  [    2/  734]\n",
      "loss: 0.240193  [  202/  734]\n",
      "loss: 0.431902  [  402/  734]\n",
      "loss: 0.390462  [  602/  734]\n",
      "Test Error: \n",
      " Accuracy: 83.7%, Avg loss: 0.433528 \n",
      "\n",
      "Epoch 7\n",
      "-------------------------------\n",
      "loss: 0.103941  [    2/  734]\n",
      "loss: 0.218743  [  202/  734]\n",
      "loss: 0.157047  [  402/  734]\n",
      "loss: 0.258020  [  602/  734]\n",
      "Test Error: \n",
      " Accuracy: 83.2%, Avg loss: 0.405242 \n",
      "\n",
      "Epoch 8\n",
      "-------------------------------\n",
      "loss: 0.551901  [    2/  734]\n",
      "loss: 0.182930  [  202/  734]\n",
      "loss: 0.045443  [  402/  734]\n",
      "loss: 0.680534  [  602/  734]\n",
      "Test Error: \n",
      " Accuracy: 83.7%, Avg loss: 0.409659 \n",
      "\n",
      "Epoch 9\n",
      "-------------------------------\n",
      "loss: 0.426403  [    2/  734]\n",
      "loss: 0.135543  [  202/  734]\n",
      "loss: 0.119078  [  402/  734]\n",
      "loss: 0.497018  [  602/  734]\n",
      "Test Error: \n",
      " Accuracy: 83.2%, Avg loss: 0.409769 \n",
      "\n",
      "Epoch 10\n",
      "-------------------------------\n",
      "loss: 1.493289  [    2/  734]\n",
      "loss: 0.100744  [  202/  734]\n",
      "loss: 0.086932  [  402/  734]\n",
      "loss: 0.058949  [  602/  734]\n",
      "Test Error: \n",
      " Accuracy: 83.2%, Avg loss: 0.412506 \n",
      "\n",
      "Done!\n",
      "NeuralNetwork(\n",
      "  (linear_relu_stack): Sequential(\n",
      "    (0): Linear(in_features=20, out_features=8, bias=True)\n",
      "    (1): LeakyReLU(negative_slope=0.01)\n",
      "    (2): Linear(in_features=8, out_features=4, bias=True)\n",
      "    (3): LeakyReLU(negative_slope=0.01)\n",
      "    (4): Linear(in_features=4, out_features=2, bias=True)\n",
      "    (5): LeakyReLU(negative_slope=0.01)\n",
      "  )\n",
      ")\n"
     ]
    }
   ],
   "source": [
    "# Train a Neural network -------(inprogress)\n",
    "\n",
    "import torch\n",
    "import torch.nn as nn\n",
    "import torch.optim as optim\n",
    "from sklearn.model_selection import train_test_split\n",
    "\n",
    "# Build neural network model\n",
    "class NeuralNetwork(nn.Module):\n",
    "    def __init__(self):\n",
    "        super(NeuralNetwork, self).__init__()\n",
    "        #self.flatten = nn.Flatten()\n",
    "        self.linear_relu_stack = nn.Sequential(\n",
    "            nn.Linear(20, 8),\n",
    "            nn.LeakyReLU(),\n",
    "            nn.Linear(8, 2),\n",
    "            nn.LeakyReLU()\n",
    "        )\n",
    "\n",
    "    def forward(self, x):\n",
    "        logits = self.linear_relu_stack(x)\n",
    "        return logits\n",
    "\n",
    "model = NeuralNetwork()\n",
    "print(model.parameters())\n",
    "\n",
    "learning_rate = 1e-3\n",
    "batch_size = 2\n",
    "epochs = 10\n",
    "\n",
    "train_data, val_data = train_test_split(medical_data, test_size = 0.2, random_state = 0)\n",
    "train, val = Dataset(train_data), Dataset(val_data)\n",
    "\n",
    "train_dataloader = torch.utils.data.DataLoader(train, batch_size=batch_size, shuffle=True)\n",
    "test_dataloader = torch.utils.data.DataLoader(val, batch_size=batch_size)\n",
    "\n",
    "\n",
    "\n",
    "loss_fn = nn.CrossEntropyLoss()\n",
    "\n",
    "#optimizer = torch.optim.SGD(model.parameters(), lr=learning_rate)\n",
    "optimizer = torch.optim.RMSprop(model.parameters(), lr=learning_rate)\n",
    "#optimizer = torch.optim.Adam(model.parameters(), lr=learning_rate)\n",
    "\n",
    "for t in range(epochs):\n",
    "    print(f\"Epoch {t+1}\\n-------------------------------\")\n",
    "    train_loop(train_dataloader, model, loss_fn, optimizer)\n",
    "    test_loop(test_dataloader, model, loss_fn)\n",
    "print(\"Done!\")\n",
    "\n",
    "print(model)"
   ]
  },
  {
   "cell_type": "markdown",
   "metadata": {},
   "source": [
    "__A3(Summary).__ "
   ]
  },
  {
   "cell_type": "code",
   "execution_count": null,
   "metadata": {},
   "outputs": [],
   "source": []
  }
 ],
 "metadata": {
  "kernelspec": {
   "display_name": "Python 3",
   "language": "python",
   "name": "python3"
  },
  "language_info": {
   "codemirror_mode": {
    "name": "ipython",
    "version": 3
   },
   "file_extension": ".py",
   "mimetype": "text/x-python",
   "name": "python",
   "nbconvert_exporter": "python",
   "pygments_lexer": "ipython3",
   "version": "3.8.5"
  }
 },
 "nbformat": 4,
 "nbformat_minor": 4
}
