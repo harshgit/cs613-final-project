{
 "cells": [
  {
   "cell_type": "markdown",
   "metadata": {},
   "source": [
    "## CS-613 Machine Learning, Final Project\n",
    "CS 613 Machine Learning <br>\n",
    "Spring 2023 <br>\n",
    "Dr. Edward Kim <br>\n",
    "Drexel University <br>\n",
    "\n",
    "### Group Members\n",
    "- Group member 1\n",
    "    - Name: Greg Morgan\n",
    "    - Email: gm655@drexel.edu\n",
    "- Group member 2\n",
    "    - Name: Trev Pawlewicz\n",
    "    - Email: tmp365@drexel.edu\n",
    "- Group member 3\n",
    "    - Name: Harsh Bolakani\n",
    "    - Email: hvb36@drexel.edu\n"
   ]
  },
  {
   "cell_type": "markdown",
   "metadata": {},
   "source": [
    "### Context\n",
    "Cardiovascular diseases (CVDs) are the number 1 cause of death globally, taking an estimated 17.9 million lives each year, which accounts for 31% of all deaths worldwide. Four out of 5CVD deaths are due to heart attacks and strokes, and one-third of these deaths occur prematurely in people under 70 years of age. Heart failure is a common event caused by CVDs and this dataset contains 11 features that can be used to predict a possible heart disease.\n",
    "\n",
    "People with cardiovascular disease or who are at high cardiovascular risk (due to the presence of one or more risk factors such as hypertension, diabetes, hyperlipidaemia or already established disease) need early detection and management wherein a machine learning model can be of great help.\n",
    "\n",
    "### Attribute Information\n",
    "Age: age of the patient [years] \\\n",
    "Sex: sex of the patient [M: Male, F: Female] \\\n",
    "ChestPainType: chest pain type [TA: Typical Angina, ATA: Atypical Angina, NAP: Non-Anginal Pain, ASY: Asymptomatic] \\\n",
    "RestingBP: resting blood pressure [mm Hg] \\\n",
    "Cholesterol: serum cholesterol [mm/dl] \\\n",
    "FastingBS: fasting blood sugar [1: if FastingBS > 120 mg/dl, 0: otherwise] \\\n",
    "RestingECG: resting electrocardiogram results [Normal: Normal, ST: having ST-T wave abnormality (T wave inversions and/or ST elevation or depression of > 0.05 mV), LVH: showing probable or definite left ventricular hypertrophy by Estes' criteria] \\\n",
    "MaxHR: maximum heart rate achieved [Numeric value between 60 and 202] \\\n",
    "ExerciseAngina: exercise-induced angina [Y: Yes, N: No] \\\n",
    "Oldpeak: oldpeak = ST [Numeric value measured in depression] \\\n",
    "ST_Slope: the slope of the peak exercise ST segment [Up: upsloping, Flat: flat, Down: downsloping] \\\n",
    "HeartDisease: output class [1: heart disease, 0: Normal] \n",
    "\n",
    "### Source\n",
    "This dataset was created by combining different datasets already available independently but not combined before. In this dataset, 5 heart datasets are combined over 11 common features which makes it the largest heart disease dataset available so far for research purposes. The five datasets used for its curation are:\n",
    "\n",
    "Cleveland: 303 observations\n",
    "Hungarian: 294 observations\n",
    "Switzerland: 123 observations\n",
    "Long Beach VA: 200 observations\n",
    "Stalog (Heart) Data Set: 270 observations\n",
    "Total: 1190 observations\n",
    "Duplicated: 272 observations\n",
    "\n",
    "Final dataset: 918 observations\n",
    "\n",
    "Every dataset used can be found under the Index of heart disease datasets from UCI Machine Learning Repository on the following link: https://archive.ics.uci.edu/ml/machine-learning-databases/heart-disease/\n",
    "\n",
    "### Citation\n",
    "fedesoriano. (September 2021). Heart Failure Prediction Dataset. Retrieved [Date Retrieved] from https://www.kaggle.com/fedesoriano/heart-failure-prediction.\n",
    "\n",
    "### Acknowledgements\n",
    "#### Creators:\n",
    "\n",
    "Hungarian Institute of Cardiology. Budapest: Andras Janosi, M.D.\n",
    "University Hospital, Zurich, Switzerland: William Steinbrunn, M.D.\n",
    "University Hospital, Basel, Switzerland: Matthias Pfisterer, M.D.\n",
    "V.A. Medical Center, Long Beach and Cleveland Clinic Foundation: Robert Detrano, M.D., Ph.D.\n",
    "#### Donor:\n",
    "David W. Aha (aha '@' ics.uci.edu) (714) 856-8779"
   ]
  },
  {
   "cell_type": "markdown",
   "metadata": {},
   "source": [
    "## Part A: Preprocessing and Exploratory Data Analysis"
   ]
  },
  {
   "cell_type": "markdown",
   "metadata": {},
   "source": [
    "In this section, we will be doing EDA on the data set chosen for our project (https://www.kaggle.com/datasets/fedesoriano/heart-failure-prediction) \n",
    "This data set includes a patient's medical data(resting hr, cholestorl levels, blood preseesion, blood sugar levels etc). Our Goal in this section is to determine factors that contribute to heart failure and find correlatiaon of various factors"
   ]
  },
  {
   "cell_type": "markdown",
   "metadata": {},
   "source": [
    "### Import Libraries"
   ]
  },
  {
   "cell_type": "code",
   "execution_count": 1,
   "metadata": {
    "tags": []
   },
   "outputs": [],
   "source": [
    "import pandas as pd\n",
    "import numpy as np\n",
    "from sklearn.model_selection import train_test_split\n",
    "from sklearn.naive_bayes import GaussianNB\n",
    "from sklearn.tree import DecisionTreeClassifier\n",
    "from sklearn.decomposition import PCA\n",
    "from sklearn.linear_model import LogisticRegression\n",
    "from sklearn.metrics import accuracy_score, confusion_matrix, ConfusionMatrixDisplay, precision_score, recall_score, f1_score\n",
    "import matplotlib.pyplot as plt"
   ]
  },
  {
   "cell_type": "markdown",
   "metadata": {},
   "source": [
    "### Load Data Set"
   ]
  },
  {
   "cell_type": "code",
   "execution_count": 2,
   "metadata": {
    "tags": []
   },
   "outputs": [
    {
     "name": "stdout",
     "output_type": "stream",
     "text": [
      "   Age Sex ChestPainType  RestingBP  Cholesterol  FastingBS RestingECG  MaxHR  \\\n",
      "0   40   M           ATA        140          289          0     Normal    172   \n",
      "1   49   F           NAP        160          180          0     Normal    156   \n",
      "2   37   M           ATA        130          283          0         ST     98   \n",
      "3   48   F           ASY        138          214          0     Normal    108   \n",
      "4   54   M           NAP        150          195          0     Normal    122   \n",
      "\n",
      "  ExerciseAngina  Oldpeak ST_Slope  HeartDisease  \n",
      "0              N      0.0       Up             0  \n",
      "1              N      1.0     Flat             1  \n",
      "2              N      0.0       Up             0  \n",
      "3              Y      1.5     Flat             1  \n",
      "4              N      0.0       Up             0  \n",
      "1    508\n",
      "0    410\n",
      "Name: HeartDisease, dtype: int64\n",
      "1    400\n",
      "0    400\n",
      "Name: HeartDisease, dtype: int64\n"
     ]
    }
   ],
   "source": [
    "def load_data(path_to_salaries_csv):\n",
    "    \n",
    "    df = pd.read_csv(path_to_salaries_csv, sep = \",\", header =0)\n",
    "    \n",
    "    return df\n",
    "\n",
    "# Load the data using our function\n",
    "heart_data = load_data('./heart.csv')\n",
    "\n",
    "# Output the first 10 rows\n",
    "print(heart_data.head())\n",
    "print(heart_data[\"HeartDisease\"].value_counts())\n",
    "# Since there is a slight class imbalance, select random 400 entries for each class\n",
    "heart_data = heart_data.groupby('HeartDisease').sample(n=400, random_state=0)\n",
    "print(heart_data[\"HeartDisease\"].value_counts())"
   ]
  },
  {
   "cell_type": "markdown",
   "metadata": {},
   "source": [
    "### Cleaning and Pre-processing Data"
   ]
  },
  {
   "cell_type": "code",
   "execution_count": 3,
   "metadata": {
    "tags": []
   },
   "outputs": [
    {
     "name": "stdout",
     "output_type": "stream",
     "text": [
      "     Age  RestingBP  Cholesterol  FastingBS  MaxHR  ExerciseAngina  Oldpeak  \\\n",
      "700   42        148          244          0    178               0      0.8   \n",
      "121   52        125          272          0    139               0      0.0   \n",
      "640   48        130          275          0    139               0      0.2   \n",
      "844   52        118          186          0    190               0      0.0   \n",
      "705   59        140          221          0    164               1      0.0   \n",
      "\n",
      "     HeartDisease  is_F  is_M  is_ASY  is_ATA  is_NAP  is_TA  is_Down  \\\n",
      "700             0   0.0   1.0     0.0     0.0     0.0    1.0      0.0   \n",
      "121             0   1.0   0.0     0.0     0.0     1.0    0.0      0.0   \n",
      "640             0   1.0   0.0     0.0     0.0     1.0    0.0      0.0   \n",
      "844             0   0.0   1.0     0.0     0.0     0.0    1.0      0.0   \n",
      "705             0   0.0   1.0     0.0     1.0     0.0    0.0      0.0   \n",
      "\n",
      "     is_Flat  is_Up  is_LVH  is_Normal  is_ST  \n",
      "700      0.0    1.0     1.0        0.0    0.0  \n",
      "121      0.0    1.0     0.0        1.0    0.0  \n",
      "640      0.0    1.0     0.0        1.0    0.0  \n",
      "844      1.0    0.0     1.0        0.0    0.0  \n",
      "705      0.0    1.0     0.0        1.0    0.0  \n"
     ]
    }
   ],
   "source": [
    "columns_to_binarize = [\"Sex\", \"ChestPainType\", \"ST_Slope\", \"RestingECG\"]\n",
    "\n",
    "clean_heart_data = heart_data\n",
    "for column in columns_to_binarize:\n",
    "\n",
    "    # Convert column into binary fields where field name is \"is_<attribute_value>\"\n",
    "    binary_columns = pd.get_dummies(clean_heart_data[column], dtype=float, prefix=\"is\")\n",
    "\n",
    "    # Drop the old column\n",
    "    clean_heart_data = clean_heart_data.drop(column, axis=1)\n",
    "\n",
    "    # Add the binarized columns to the data\n",
    "    clean_heart_data = pd.concat([clean_heart_data, binary_columns], axis=1)\n",
    "\n",
    "# We only have one feature to map to binary\n",
    "clean_heart_data['ExerciseAngina'] = clean_heart_data['ExerciseAngina'].map({'N': 0, 'Y': 1})\n",
    "\n",
    "# Print first 5 rows of cleaned data\n",
    "print(clean_heart_data[:5])"
   ]
  },
  {
   "cell_type": "markdown",
   "metadata": {},
   "source": [
    "### Find Correlation in data w.r.t heart disease"
   ]
  },
  {
   "cell_type": "code",
   "execution_count": 4,
   "metadata": {},
   "outputs": [
    {
     "data": {
      "text/plain": [
       "<AxesSubplot:title={'center':'correlation with heart disease'}>"
      ]
     },
     "execution_count": 4,
     "metadata": {},
     "output_type": "execute_result"
    },
    {
     "data": {
      "image/png": "[encoded data removed]",
      "text/plain": [
       "<Figure size 1296x576 with 1 Axes>"
      ]
     },
     "metadata": {
      "needs_background": "light"
     },
     "output_type": "display_data"
    }
   ],
   "source": [
    "data_corr = clean_heart_data.corr()\n",
    "clean_heart_data.corrwith(clean_heart_data[\"HeartDisease\"]).plot(kind='bar', grid=True, figsize=(18,8),title=\"correlation with heart disease\")"
   ]
  },
  {
   "cell_type": "markdown",
   "metadata": {},
   "source": [
    "### Split and Standardize Data"
   ]
  },
  {
   "cell_type": "code",
   "execution_count": 6,
   "metadata": {
    "tags": []
   },
   "outputs": [
    {
     "name": "stdout",
     "output_type": "stream",
     "text": [
      "          Age  RestingBP  Cholesterol  FastingBS     MaxHR  ExerciseAngina  \\\n",
      "482  1.437954   0.452034     0.635000   1.811143 -0.513875       -0.768457   \n",
      "62  -0.857208   0.349416     0.191596  -0.551217  0.222910       -0.768457   \n",
      "601  0.812000   0.349416     0.769949  -0.551217 -0.591431        1.299140   \n",
      "544  0.812000   0.349416     0.904898   1.811143 -0.707766        1.299140   \n",
      "433 -0.752883  -1.189861     0.307266  -0.551217 -0.513875        1.299140   \n",
      "\n",
      "      Oldpeak      is_F      is_M    is_ASY    is_ATA    is_NAP     is_TA  \\\n",
      "482  1.605298 -0.520321  0.520321 -1.022759 -0.525485 -0.538367  4.516030   \n",
      "62  -0.800003 -0.520321  0.520321  0.976118 -0.525485 -0.538367 -0.221064   \n",
      "601  0.450753 -0.520321  0.520321 -1.022759 -0.525485  1.854374 -0.221064   \n",
      "544 -0.800003  1.918686 -1.918686 -1.022759  1.899831 -0.538367 -0.221064   \n",
      "433  1.124238 -0.520321  0.520321  0.976118 -0.525485 -0.538367 -0.221064   \n",
      "\n",
      "      is_Down   is_Flat     is_Up    is_LVH  is_Normal     is_ST  \n",
      "482 -0.267038 -0.937768  1.071737 -0.504782   0.782229 -0.462836  \n",
      "62  -0.267038 -0.937768  1.071737 -0.504782   0.782229 -0.462836  \n",
      "601 -0.267038  1.064584 -0.931510 -0.504782   0.782229 -0.462836  \n",
      "544 -0.267038 -0.937768  1.071737 -0.504782   0.782229 -0.462836  \n",
      "433 -0.267038  1.064584 -0.931510 -0.504782   0.782229 -0.462836  \n"
     ]
    }
   ],
   "source": [
    "X = clean_heart_data.loc[:, clean_heart_data.columns != 'HeartDisease']\n",
    "y = clean_heart_data['HeartDisease']\n",
    "\n",
    "X_train, X_test, y_train, y_test = train_test_split(X, y, random_state=0)\n",
    "\n",
    "# Standardize the data\n",
    "X_train_std = (X_train - X_train.mean()) / X_train.std()\n",
    "X_test_std = (X_test - X_train.mean()) / X_train.std()\n",
    "\n",
    "# Print first 5 rows of standardized data\n",
    "print(X_train_std[:5])             "
   ]
  },
  {
   "cell_type": "markdown",
   "metadata": {},
   "source": [
    "## Part B: Machine Learning: Classification Algorithms"
   ]
  },
  {
   "cell_type": "markdown",
   "metadata": {},
   "source": [
    "### Logistic Regression"
   ]
  },
  {
   "cell_type": "code",
   "execution_count": 39,
   "metadata": {
    "tags": []
   },
   "outputs": [
    {
     "name": "stdout",
     "output_type": "stream",
     "text": [
      "Accuracy: 0.86\n"
     ]
    }
   ],
   "source": [
    "# Initialize and fit the logistic regression model\n",
    "log_model = LogisticRegression()\n",
    "log_model.fit(X_train_std, y_train)\n",
    "\n",
    "# Predict the target variable for the test set\n",
    "y_pred = log_model.predict(X_test_std)\n",
    "\n",
    "# Calculate the accuracy of the model\n",
    "accuracy = accuracy_score(y_test, y_pred)\n",
    "print('Accuracy:', accuracy)"
   ]
  },
  {
   "cell_type": "markdown",
   "metadata": {},
   "source": [
    "### Confusion Matrix"
   ]
  },
  {
   "cell_type": "code",
   "execution_count": 40,
   "metadata": {
    "tags": []
   },
   "outputs": [
    {
     "data": {
      "image/png": "[encoded data removed]",
      "text/plain": [
       "<Figure size 432x288 with 2 Axes>"
      ]
     },
     "metadata": {
      "needs_background": "light"
     },
     "output_type": "display_data"
    }
   ],
   "source": [
    "cm = confusion_matrix(y_test, y_pred)\n",
    "disp = ConfusionMatrixDisplay(confusion_matrix=cm, display_labels=['Negative', 'Positive'])\n",
    "disp.plot(cmap='Blues')\n",
    "plt.title('Confusion Matrix')\n",
    "plt.show()"
   ]
  },
  {
   "cell_type": "code",
   "execution_count": 41,
   "metadata": {
    "tags": []
   },
   "outputs": [
    {
     "name": "stdout",
     "output_type": "stream",
     "text": [
      "Accuracy: 0.86\n",
      "Precision: 0.8518518518518519\n",
      "Recall: 0.8846153846153846\n",
      "F1-Score: 0.8679245283018868\n"
     ]
    }
   ],
   "source": [
    "# Calculate evaluation metrics\n",
    "accuracy = accuracy_score(y_test, y_pred)\n",
    "precision = precision_score(y_test, y_pred)\n",
    "recall = recall_score(y_test, y_pred)\n",
    "f1 = f1_score(y_test, y_pred)\n",
    "\n",
    "print('Accuracy:', accuracy)\n",
    "print('Precision:', precision)\n",
    "print('Recall:', recall)\n",
    "print('F1-Score:', f1)"
   ]
  },
  {
   "cell_type": "markdown",
   "metadata": {},
   "source": [
    "### Naive Bayes"
   ]
  },
  {
   "cell_type": "code",
   "execution_count": 42,
   "metadata": {
    "tags": []
   },
   "outputs": [
    {
     "name": "stdout",
     "output_type": "stream",
     "text": [
      "Naive Bayes:\n",
      "Accuracy: 0.855\n",
      "Precision: 0.8378378378378378\n",
      "Recall: 0.8942307692307693\n",
      "F1-score: 0.8651162790697674\n"
     ]
    },
    {
     "data": {
      "image/png": "[encoded data removed]",
      "text/plain": [
       "<Figure size 432x288 with 2 Axes>"
      ]
     },
     "metadata": {
      "needs_background": "light"
     },
     "output_type": "display_data"
    }
   ],
   "source": [
    "# Initialize and fit the Naive Bayes classifier\n",
    "naive_bayes = GaussianNB()\n",
    "naive_bayes.fit(X_train_std, y_train)\n",
    "\n",
    "# Predict the target variable using Naive Bayes\n",
    "y_pred_nb = naive_bayes.predict(X_test_std)\n",
    "\n",
    "# Calculate evaluation metrics\n",
    "accuracy_nb = accuracy_score(y_test, y_pred_nb)\n",
    "precision_nb = precision_score(y_test, y_pred_nb)\n",
    "recall_nb = recall_score(y_test, y_pred_nb)\n",
    "f1_nb = f1_score(y_test, y_pred_nb)\n",
    "cm_nb = confusion_matrix(y_test, y_pred_nb)\n",
    "\n",
    "print(\"Naive Bayes:\")\n",
    "print(\"Accuracy:\", accuracy_nb)\n",
    "print(\"Precision:\", precision_nb)\n",
    "print(\"Recall:\", recall_nb)\n",
    "print(\"F1-score:\", f1_nb)\n",
    "\n",
    "disp = ConfusionMatrixDisplay(confusion_matrix=cm_nb, display_labels=['Negative', 'Positive'])\n",
    "disp.plot(cmap='Greens')\n",
    "plt.title('Confusion Matrix')\n",
    "plt.show()"
   ]
  },
  {
   "cell_type": "markdown",
   "metadata": {},
   "source": [
    "### Decision Tree"
   ]
  },
  {
   "cell_type": "code",
   "execution_count": 43,
   "metadata": {
    "tags": []
   },
   "outputs": [
    {
     "name": "stdout",
     "output_type": "stream",
     "text": [
      "Decision Tree:\n",
      "Accuracy: 0.75\n",
      "Precision: 0.7547169811320755\n",
      "Recall: 0.7692307692307693\n",
      "F1-score: 0.7619047619047619\n"
     ]
    },
    {
     "data": {
      "image/png": "[encoded data removed]",
      "text/plain": [
       "<Figure size 432x288 with 2 Axes>"
      ]
     },
     "metadata": {
      "needs_background": "light"
     },
     "output_type": "display_data"
    }
   ],
   "source": [
    "# Initialize and fit the Decision Tree classifier\n",
    "decision_tree = DecisionTreeClassifier()\n",
    "decision_tree.fit(X_train_std, y_train)\n",
    "\n",
    "# Predict the target variable using Decision Tree\n",
    "y_pred_dt = decision_tree.predict(X_test_std)\n",
    "\n",
    "# Calculate evaluation metrics\n",
    "accuracy_dt = accuracy_score(y_test, y_pred_dt)\n",
    "precision_dt = precision_score(y_test, y_pred_dt)\n",
    "recall_dt = recall_score(y_test, y_pred_dt)\n",
    "f1_dt = f1_score(y_test, y_pred_dt)\n",
    "cm_dt = confusion_matrix(y_test, y_pred_dt)\n",
    "\n",
    "print(\"Decision Tree:\")\n",
    "print(\"Accuracy:\", accuracy_dt)\n",
    "print(\"Precision:\", precision_dt)\n",
    "print(\"Recall:\", recall_dt)\n",
    "print(\"F1-score:\", f1_dt)\n",
    "\n",
    "disp = ConfusionMatrixDisplay(confusion_matrix=cm_dt, display_labels=['Negative', 'Positive'])\n",
    "disp.plot(cmap='Reds')\n",
    "plt.title('Confusion Matrix')\n",
    "plt.show()"
   ]
  },
  {
   "cell_type": "markdown",
   "metadata": {},
   "source": [
    "### Feature Selection using PCA"
   ]
  },
  {
   "cell_type": "code",
   "execution_count": 92,
   "metadata": {
    "tags": []
   },
   "outputs": [
    {
     "name": "stdout",
     "output_type": "stream",
     "text": [
      "PC1 Varience: 4.0073\n",
      "PC2 Varience: 2.0193\n",
      "PC3 Varience: 1.7722\n",
      "PC4 Varience: 1.5558\n",
      "PC5 Varience: 1.3984\n",
      "PC6 Varience: 1.2825\n",
      "PC7 Varience: 1.127\n",
      "PC8 Varience: 1.0605\n",
      "PC9 Varience: 1.0159\n",
      "PC10 Varience: 0.8997\n",
      "PC11 Varience: 0.7963\n",
      "PC12 Varience: 0.6446\n",
      "PC13 Varience: 0.5055\n",
      "PC14 Varience: 0.4875\n",
      "PC15 Varience: 0.4274\n",
      "PC16 Varience: 0.0\n",
      "PC17 Varience: 0.0\n",
      "PC18 Varience: 0.0\n",
      "PC19 Varience: 0.0\n"
     ]
    }
   ],
   "source": [
    "pca = PCA()\n",
    "pca.fit(X_train_std)\n",
    "\n",
    "# Print out the variance captures by each principal component\n",
    "for i, pc_var in enumerate(pca.explained_variance_):\n",
    "    print(f\"PC{i+1} Varience: {round(pc_var, 4)}\")"
   ]
  },
  {
   "cell_type": "code",
   "execution_count": 93,
   "metadata": {
    "tags": []
   },
   "outputs": [
    {
     "name": "stdout",
     "output_type": "stream",
     "text": [
      "[0.86, 0.885, 0.87, 0.87, 0.87, 0.87, 0.88, 0.875, 0.86, 0.865, 0.855, 0.85, 0.855, 0.855, 0.86, 0.86, 0.86, 0.86, 0.86]\n",
      "[0.8454545454545455, 0.8785046728971962, 0.8611111111111112, 0.8611111111111112, 0.8679245283018868, 0.8679245283018868, 0.8773584905660378, 0.8691588785046729, 0.8584905660377359, 0.8598130841121495, 0.8571428571428571, 0.8490566037735849, 0.8571428571428571, 0.8504672897196262, 0.8518518518518519, 0.8518518518518519, 0.8518518518518519, 0.8518518518518519, 0.8518518518518519]\n",
      "[0.8942307692307693, 0.9038461538461539, 0.8942307692307693, 0.8942307692307693, 0.8846153846153846, 0.8846153846153846, 0.8942307692307693, 0.8942307692307693, 0.875, 0.8846153846153846, 0.8653846153846154, 0.8653846153846154, 0.8653846153846154, 0.875, 0.8846153846153846, 0.8846153846153846, 0.8846153846153846, 0.8846153846153846, 0.8846153846153846]\n",
      "[0.8691588785046728, 0.8909952606635071, 0.8773584905660378, 0.8773584905660378, 0.8761904761904762, 0.8761904761904762, 0.8857142857142858, 0.881516587677725, 0.8666666666666667, 0.872037914691943, 0.8612440191387559, 0.8571428571428571, 0.8612440191387559, 0.8625592417061612, 0.8679245283018868, 0.8679245283018868, 0.8679245283018868, 0.8679245283018868, 0.8679245283018868]\n"
     ]
    }
   ],
   "source": [
    "# Iterate through components to see which number of components gets the best results\n",
    "accuracy_scores = []\n",
    "precision_scores = []\n",
    "recall_scores = []\n",
    "f1_scores = []\n",
    "\n",
    "for i in range(1,len(X_train_std.columns)+1):\n",
    "    pca = PCA(n_components=i)\n",
    "    X_train_pca = pca.fit_transform(X_train_std)\n",
    "\n",
    "    # Transform the test set using the same PCA model\n",
    "    X_test_pca = pca.transform(X_test_std)\n",
    "\n",
    "    # Initialize and fit the logistic regression model\n",
    "    log_model = LogisticRegression()\n",
    "    log_model.fit(X_train_pca, y_train)\n",
    "\n",
    "    # Predict the target variable for the test set\n",
    "    y_pred = log_model.predict(X_test_pca)\n",
    "\n",
    "    # Calculate the accuracy of the model\n",
    "    accuracy = accuracy_score(y_test, y_pred)\n",
    "    precision = precision_score(y_test, y_pred)\n",
    "    recall = recall_score(y_test, y_pred)\n",
    "    f1 = f1_score(y_test, y_pred)\n",
    "    \n",
    "    accuracy_scores.append(accuracy)\n",
    "    precision_scores.append(precision)\n",
    "    recall_scores.append(recall)\n",
    "    f1_scores.append(f1)\n",
    "    \n",
    "print(accuracy_scores)\n",
    "print(precision_scores)\n",
    "print(recall_scores)\n",
    "print(f1_scores)"
   ]
  },
  {
   "cell_type": "code",
   "execution_count": 94,
   "metadata": {
    "tags": []
   },
   "outputs": [
    {
     "data": {
      "image/png": "[encoded data removed]",
      "text/plain": [
       "<Figure size 640x480 with 1 Axes>"
      ]
     },
     "metadata": {},
     "output_type": "display_data"
    }
   ],
   "source": [
    "components = list(range(1, 20))\n",
    "# Plot the scores\n",
    "plt.plot(components, accuracy_scores, label='Accuracy')\n",
    "plt.plot(components, precision_scores, label='Precision')\n",
    "plt.plot(components, recall_scores, label='Recall')\n",
    "plt.plot(components, f1_scores, label='F1-Score')\n",
    "\n",
    "# Customize the plot\n",
    "plt.xlabel('PCA Components')\n",
    "plt.ylabel('Score')\n",
    "plt.title('Performance Comparison of PCA Components')\n",
    "plt.legend()\n",
    "\n",
    "# Set x-axis tick marks\n",
    "plt.xticks(components)\n",
    "\n",
    "# Show the plot\n",
    "plt.tight_layout()\n",
    "plt.show()"
   ]
  },
  {
   "cell_type": "code",
   "execution_count": 95,
   "metadata": {
    "tags": []
   },
   "outputs": [
    {
     "name": "stdout",
     "output_type": "stream",
     "text": [
      "Percent of Varience Captured by first two principal components: 0.31719164766971714\n"
     ]
    }
   ],
   "source": [
    "pc1_pc2_varience = (pca.explained_variance_[0]+pca.explained_variance_[1])/sum(pca.explained_variance_)\n",
    "print(f\"Percent of Varience Captured by first two principal components: {pc1_pc2_varience}\")"
   ]
  },
  {
   "cell_type": "markdown",
   "metadata": {},
   "source": [
    "## Part C: Machine Learning: Neural Network"
   ]
  },
  {
   "cell_type": "markdown",
   "metadata": {},
   "source": [
    "The Neural network approach can be used for classification when the labels are not linearly separable. In the context of Heart Disease prediction, we wanted to compare the performance of a neural network model vs other classification models like Logistic regression, Naïve Bayes and decision trees and find whether Neural network performs better or worse than other classification algorithms. "
   ]
  },
  {
   "cell_type": "code",
   "execution_count": 36,
   "metadata": {},
   "outputs": [],
   "source": [
    "import torch\n",
    "\n",
    "use_cuda = torch.cuda.is_available()\n",
    "device = torch.device(\"cuda\" if use_cuda else \"cpu\")\n",
    "\n",
    "def get_metrics(y,y_pred):\n",
    "    total=0\n",
    "    correct=0\n",
    "    TP=0\n",
    "    FP=0\n",
    "    FN=0\n",
    "    for (actual,pred) in zip(y,y_pred):\n",
    "        total+=1\n",
    "        if(actual==pred):\n",
    "            correct+=1\n",
    "            if(actual==1):\n",
    "                TP+=1\n",
    "        else:\n",
    "            if(pred==1):\n",
    "                FP+=1\n",
    "            if(pred==0):\n",
    "                FN+=1\n",
    "                \n",
    "    precision = TP/(TP+FP)\n",
    "    recall = TP/(TP+FN)\n",
    "    f1 = 2*precision*recall/(precision+recall)\n",
    "    accuracy = correct/total\n",
    "    \n",
    "    return (precision,recall,f1,accuracy)\n",
    "\n",
    "class Dataset(torch.utils.data.Dataset):\n",
    "\n",
    "    def __init__(self, X,y):\n",
    "        self.labels = [0 if label == 0 else 1 for label in y]\n",
    "        self.features = X.values.tolist()\n",
    "\n",
    "    def classes(self):\n",
    "        return self.label\n",
    "\n",
    "    def __len__(self):\n",
    "        return len(self.labels)\n",
    "\n",
    "    def get_batch_labels(self, idx):\n",
    "        return np.array(self.labels[idx])\n",
    "\n",
    "    def get_batch_features(self, idx):\n",
    "        return np.array(self.features[idx])\n",
    "\n",
    "    def __getitem__(self, idx):\n",
    "        batch_features = self.get_batch_features(idx)\n",
    "        batch_y = self.get_batch_labels(idx)\n",
    "\n",
    "        return batch_features, batch_y"
   ]
  },
  {
   "cell_type": "code",
   "execution_count": 34,
   "metadata": {},
   "outputs": [],
   "source": [
    "def train_loop(dataloader, model, loss_fn, optimizer):\n",
    "    size = len(dataloader.dataset)\n",
    "    # Set the model to training mode - important for batch normalization and dropout layers\n",
    "    # Unnecessary in this situation but added for best practices\n",
    "    model.train()\n",
    "    for batch, (X, y) in enumerate(dataloader):\n",
    "        # Compute prediction and loss\n",
    "        X = X.to(device)\n",
    "        y = y.to(device)\n",
    "        pred = model(X.float())\n",
    "        loss = loss_fn(pred, y.long())\n",
    "\n",
    "        # Backpropagation\n",
    "        loss.backward()\n",
    "        optimizer.step()\n",
    "        optimizer.zero_grad()\n",
    "\n",
    "        if batch % 100 == 0:\n",
    "            loss, current = loss.item(), (batch + 1) * len(X)\n",
    "            print(f\"loss: {loss:>7f}  [{current:>5d}/{size:>5d}]\")\n",
    "\n",
    "\n",
    "def test_loop(dataloader, model, loss_fn):\n",
    "    # Set the model to evaluation mode - important for batch normalization and dropout layers\n",
    "    # Unnecessary in this situation but added for best practices\n",
    "    model.eval()\n",
    "    size = len(dataloader.dataset)\n",
    "    num_batches = len(dataloader)\n",
    "    test_loss, correct = 0, 0\n",
    "    pred_final_list = []\n",
    "\n",
    "    # Evaluating the model with torch.no_grad() ensures that no gradients are computed during test mode\n",
    "    # also serves to reduce unnecessary gradient computations and memory usage for tensors with requires_grad=True\n",
    "    with torch.no_grad():\n",
    "        for X, y in dataloader:\n",
    "            X = X.to(device)\n",
    "            y = y.to(device)\n",
    "            pred = model(X.float())\n",
    "            #print(f\"predicted value: {pred}\")\n",
    "            #print(f\"y: {y}\")\n",
    "            test_loss += loss_fn(pred, y.long()).item()\n",
    "            correct += (pred.argmax(1) == y).type(torch.float).sum().item()\n",
    "            #TP += (pred.argmax(1) == 1.0).type(torch.float).sum().item()\n",
    "            pred_list = pred.argmax(1).type(torch.float).tolist()\n",
    "            pred_final_list.extend(pred_list)\n",
    "            #print(pred_list)\n",
    "            \n",
    "            #predicted_classes = torch.argmax(y_pred, dim=1) == 0\n",
    "            #target_classes = self.get_vector(y)\n",
    "            #target_true += torch.sum(target_classes == 1).float()\n",
    "            #predicted_true += torch.sum(predicted_classes).float()\n",
    "            #correct_true += torch.sum(\n",
    "            #   predicted_classes == target_classes * predicted_classes == 0).float()\n",
    "\n",
    "    test_loss /= num_batches\n",
    "    correct /= size\n",
    "    print(f\"Test Error: \\n Accuracy: {(100*correct):>0.1f}%, Avg loss: {test_loss:>8f} \\n\")\n",
    "    return pred_final_list"
   ]
  },
  {
   "cell_type": "code",
   "execution_count": 45,
   "metadata": {},
   "outputs": [
    {
     "name": "stdout",
     "output_type": "stream",
     "text": [
      "Epoch 1\n",
      "-------------------------------\n",
      "loss: 0.629764  [    2/  600]\n",
      "loss: 0.684950  [  202/  600]\n",
      "loss: 0.457017  [  402/  600]\n",
      "Test Error: \n",
      " Accuracy: 85.5%, Avg loss: 0.375028 \n",
      "\n",
      "Precision: 0.8518518518518519\n",
      "Recall: 0.8846153846153846\n",
      "F1: 0.8679245283018868\n",
      "Accuracy: 0.86\n",
      "Epoch 2\n",
      "-------------------------------\n",
      "loss: 0.284003  [    2/  600]\n",
      "loss: 0.372639  [  202/  600]\n",
      "loss: 0.194855  [  402/  600]\n",
      "Test Error: \n",
      " Accuracy: 85.5%, Avg loss: 0.324836 \n",
      "\n",
      "Precision: 0.8518518518518519\n",
      "Recall: 0.8846153846153846\n",
      "F1: 0.8679245283018868\n",
      "Accuracy: 0.86\n",
      "Epoch 3\n",
      "-------------------------------\n",
      "loss: 0.173977  [    2/  600]\n",
      "loss: 0.157488  [  202/  600]\n",
      "loss: 0.355206  [  402/  600]\n",
      "Test Error: \n",
      " Accuracy: 86.0%, Avg loss: 0.316394 \n",
      "\n",
      "Precision: 0.8518518518518519\n",
      "Recall: 0.8846153846153846\n",
      "F1: 0.8679245283018868\n",
      "Accuracy: 0.86\n",
      "Epoch 4\n",
      "-------------------------------\n",
      "loss: 0.185840  [    2/  600]\n",
      "loss: 0.965467  [  202/  600]\n",
      "loss: 1.836464  [  402/  600]\n",
      "Test Error: \n",
      " Accuracy: 86.0%, Avg loss: 0.315001 \n",
      "\n",
      "Precision: 0.8518518518518519\n",
      "Recall: 0.8846153846153846\n",
      "F1: 0.8679245283018868\n",
      "Accuracy: 0.86\n",
      "Epoch 5\n",
      "-------------------------------\n",
      "loss: 0.249504  [    2/  600]\n",
      "loss: 0.019306  [  202/  600]\n",
      "loss: 0.076955  [  402/  600]\n",
      "Test Error: \n",
      " Accuracy: 87.0%, Avg loss: 0.315282 \n",
      "\n",
      "Precision: 0.8518518518518519\n",
      "Recall: 0.8846153846153846\n",
      "F1: 0.8679245283018868\n",
      "Accuracy: 0.86\n",
      "Epoch 6\n",
      "-------------------------------\n",
      "loss: 0.681785  [    2/  600]\n",
      "loss: 0.830540  [  202/  600]\n",
      "loss: 0.314128  [  402/  600]\n",
      "Test Error: \n",
      " Accuracy: 86.5%, Avg loss: 0.316390 \n",
      "\n",
      "Precision: 0.8518518518518519\n",
      "Recall: 0.8846153846153846\n",
      "F1: 0.8679245283018868\n",
      "Accuracy: 0.86\n",
      "Epoch 7\n",
      "-------------------------------\n",
      "loss: 0.142643  [    2/  600]\n",
      "loss: 0.040703  [  202/  600]\n",
      "loss: 0.041020  [  402/  600]\n",
      "Test Error: \n",
      " Accuracy: 86.0%, Avg loss: 0.317376 \n",
      "\n",
      "Precision: 0.8518518518518519\n",
      "Recall: 0.8846153846153846\n",
      "F1: 0.8679245283018868\n",
      "Accuracy: 0.86\n",
      "Epoch 8\n",
      "-------------------------------\n",
      "loss: 0.647398  [    2/  600]\n",
      "loss: 0.209197  [  202/  600]\n",
      "loss: 0.071326  [  402/  600]\n",
      "Test Error: \n",
      " Accuracy: 86.0%, Avg loss: 0.318121 \n",
      "\n",
      "Precision: 0.8518518518518519\n",
      "Recall: 0.8846153846153846\n",
      "F1: 0.8679245283018868\n",
      "Accuracy: 0.86\n",
      "Epoch 9\n",
      "-------------------------------\n",
      "loss: 0.343176  [    2/  600]\n",
      "loss: 0.701209  [  202/  600]\n",
      "loss: 0.440683  [  402/  600]\n",
      "Test Error: \n",
      " Accuracy: 86.0%, Avg loss: 0.317040 \n",
      "\n",
      "Precision: 0.8518518518518519\n",
      "Recall: 0.8846153846153846\n",
      "F1: 0.8679245283018868\n",
      "Accuracy: 0.86\n",
      "Epoch 10\n",
      "-------------------------------\n",
      "loss: 0.248086  [    2/  600]\n",
      "loss: 0.106333  [  202/  600]\n",
      "loss: 0.064745  [  402/  600]\n",
      "Test Error: \n",
      " Accuracy: 86.0%, Avg loss: 0.317181 \n",
      "\n",
      "Precision: 0.8518518518518519\n",
      "Recall: 0.8846153846153846\n",
      "F1: 0.8679245283018868\n",
      "Accuracy: 0.86\n",
      "Done!\n"
     ]
    }
   ],
   "source": [
    "# Train a Neural network -------\n",
    "\n",
    "import torch\n",
    "import torch.nn as nn\n",
    "import torch.optim as optim\n",
    "from sklearn.model_selection import train_test_split\n",
    "\n",
    "# Build neural network model\n",
    "class NeuralNetwork(nn.Module):\n",
    "    def __init__(self):\n",
    "        super(NeuralNetwork, self).__init__()\n",
    "        #self.flatten = nn.Flatten()\n",
    "        self.linear_relu_stack = nn.Sequential(\n",
    "            nn.Linear(19, 8),\n",
    "            nn.LeakyReLU(),\n",
    "            nn.Linear(8, 2),\n",
    "            nn.LeakyReLU()\n",
    "        )\n",
    "\n",
    "    def forward(self, x):\n",
    "        logits = self.linear_relu_stack(x)\n",
    "        return logits\n",
    "\n",
    "model = NeuralNetwork()\n",
    "\n",
    "learning_rate = 1e-3\n",
    "batch_size = 2\n",
    "epochs = 10\n",
    "\n",
    "#train_data, val_data = train_test_split(medical_data, test_size = 0.2, random_state = 0)\n",
    "train, val = Dataset(X_train_std,y_train), Dataset(X_test_std,y_test)\n",
    "\n",
    "train_dataloader = torch.utils.data.DataLoader(train, batch_size=batch_size, shuffle=True)\n",
    "test_dataloader = torch.utils.data.DataLoader(val, batch_size=batch_size)\n",
    "\n",
    "\n",
    "\n",
    "loss_fn = nn.CrossEntropyLoss()\n",
    "\n",
    "#optimizer = torch.optim.SGD(model.parameters(), lr=learning_rate)\n",
    "optimizer = torch.optim.RMSprop(model.parameters(), lr=learning_rate)\n",
    "#optimizer = torch.optim.Adam(model.parameters(), lr=learning_rate)\n",
    "\n",
    "\n",
    "\n",
    "for t in range(epochs):\n",
    "    print(f\"Epoch {t+1}\\n-------------------------------\")\n",
    "    train_loop(train_dataloader, model, loss_fn, optimizer)\n",
    "    y_pred = test_loop(test_dataloader, model, loss_fn)\n",
    "    #Metrics\n",
    "    precision_nn,recall_nn,f1_nn,accuracy_nn = get_metrics(y_test,y_pred)\n",
    "    print(f\"Precision: {precision}\")\n",
    "    print(f\"Recall: {recall}\")\n",
    "    print(f\"F1: {f1}\")\n",
    "    print(f\"Accuracy: {accuracy}\")\n",
    "\n",
    "print(\"Done!\")\n",
    "\n"
   ]
  },
  {
   "cell_type": "markdown",
   "metadata": {},
   "source": [
    "### Algorithm Comparison"
   ]
  },
  {
   "cell_type": "code",
   "execution_count": 54,
   "metadata": {
    "tags": []
   },
   "outputs": [
    {
     "data": {
      "image/png": "[encoded data removed]",
      "text/plain": [
       "<Figure size 864x432 with 1 Axes>"
      ]
     },
     "metadata": {
      "needs_background": "light"
     },
     "output_type": "display_data"
    }
   ],
   "source": [
    "# Results for each algorithm\n",
    "algorithms = ['Logistic Regression', 'Naive Bayes', 'Decision Tree', \"Neural Network\"]\n",
    "metrics = ['Accuracy', 'Precision', 'Recall', 'F1-Score']\n",
    "\n",
    "lr = np.array([accuracy, precision, recall, f1])*100\n",
    "nb = np.array([accuracy_nb, precision_nb, recall_nb, f1_nb])*100\n",
    "dt = np.array([accuracy_dt, precision_dt, recall_dt, f1_dt])*100\n",
    "nn = np.array([accuracy_nn, precision_nn, recall_nn, f1_nn])*100\n",
    "\n",
    "# Plot the bars for each evaluation metric\n",
    "bar_width = 0.2\n",
    "index = np.arange(len(metrics))\n",
    "fig = plt.figure(figsize=(12,6))\n",
    "plt.bar(index, lr, bar_width, label='Logistic Regression')\n",
    "plt.bar(index + bar_width, nb, bar_width, label='Naive Bayes')\n",
    "plt.bar(index + 2 * bar_width, dt, bar_width, label='Decision Tree')\n",
    "plt.bar(index + 3 * bar_width, nn, bar_width, label='Neural Network')\n",
    "\n",
    "# Show the plot\n",
    "\n",
    "plt.xlabel('Metrics')\n",
    "plt.ylabel('Performance in %')\n",
    "plt.title('Performance Comparison of Classification Algorithms')\n",
    "plt.xticks(index + 1.5 * bar_width, metrics)\n",
    "plt.legend(loc='lower left')\n",
    "plt.tight_layout()\n",
    "plt.show()"
   ]
  },
  {
   "cell_type": "code",
   "execution_count": null,
   "metadata": {},
   "outputs": [],
   "source": []
  }
 ],
 "metadata": {
  "kernelspec": {
   "display_name": "Python 3",
   "language": "python",
   "name": "python3"
  },
  "language_info": {
   "codemirror_mode": {
    "name": "ipython",
    "version": 3
   },
   "file_extension": ".py",
   "mimetype": "text/x-python",
   "name": "python",
   "nbconvert_exporter": "python",
   "pygments_lexer": "ipython3",
   "version": "3.8.5"
  }
 },
 "nbformat": 4,
 "nbformat_minor": 5
}
