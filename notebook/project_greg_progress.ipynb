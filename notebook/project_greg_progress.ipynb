{
 "cells": [
  {
   "cell_type": "markdown",
   "id": "baa329ca-8fa5-4405-8d3c-7c4e7189dd9d",
   "metadata": {},
   "source": [
    "### Context\n",
    "Cardiovascular diseases (CVDs) are the number 1 cause of death globally, taking an estimated 17.9 million lives each year, which accounts for 31% of all deaths worldwide. Four out of 5CVD deaths are due to heart attacks and strokes, and one-third of these deaths occur prematurely in people under 70 years of age. Heart failure is a common event caused by CVDs and this dataset contains 11 features that can be used to predict a possible heart disease.\n",
    "\n",
    "People with cardiovascular disease or who are at high cardiovascular risk (due to the presence of one or more risk factors such as hypertension, diabetes, hyperlipidaemia or already established disease) need early detection and management wherein a machine learning model can be of great help.\n",
    "\n",
    "### Attribute Information\n",
    "Age: age of the patient [years] \\\n",
    "Sex: sex of the patient [M: Male, F: Female] \\\n",
    "ChestPainType: chest pain type [TA: Typical Angina, ATA: Atypical Angina, NAP: Non-Anginal Pain, ASY: Asymptomatic] \\\n",
    "RestingBP: resting blood pressure [mm Hg] \\\n",
    "Cholesterol: serum cholesterol [mm/dl] \\\n",
    "FastingBS: fasting blood sugar [1: if FastingBS > 120 mg/dl, 0: otherwise] \\\n",
    "RestingECG: resting electrocardiogram results [Normal: Normal, ST: having ST-T wave abnormality (T wave inversions and/or ST elevation or depression of > 0.05 mV), LVH: showing probable or definite left ventricular hypertrophy by Estes' criteria] \\\n",
    "MaxHR: maximum heart rate achieved [Numeric value between 60 and 202] \\\n",
    "ExerciseAngina: exercise-induced angina [Y: Yes, N: No] \\\n",
    "Oldpeak: oldpeak = ST [Numeric value measured in depression] \\\n",
    "ST_Slope: the slope of the peak exercise ST segment [Up: upsloping, Flat: flat, Down: downsloping] \\\n",
    "HeartDisease: output class [1: heart disease, 0: Normal] \n",
    "\n",
    "### Source\n",
    "This dataset was created by combining different datasets already available independently but not combined before. In this dataset, 5 heart datasets are combined over 11 common features which makes it the largest heart disease dataset available so far for research purposes. The five datasets used for its curation are:\n",
    "\n",
    "Cleveland: 303 observations\n",
    "Hungarian: 294 observations\n",
    "Switzerland: 123 observations\n",
    "Long Beach VA: 200 observations\n",
    "Stalog (Heart) Data Set: 270 observations\n",
    "Total: 1190 observations\n",
    "Duplicated: 272 observations\n",
    "\n",
    "Final dataset: 918 observations\n",
    "\n",
    "Every dataset used can be found under the Index of heart disease datasets from UCI Machine Learning Repository on the following link: https://archive.ics.uci.edu/ml/machine-learning-databases/heart-disease/\n",
    "\n",
    "### Citation\n",
    "fedesoriano. (September 2021). Heart Failure Prediction Dataset. Retrieved [Date Retrieved] from https://www.kaggle.com/fedesoriano/heart-failure-prediction.\n",
    "\n",
    "### Acknowledgements\n",
    "#### Creators:\n",
    "\n",
    "Hungarian Institute of Cardiology. Budapest: Andras Janosi, M.D.\n",
    "University Hospital, Zurich, Switzerland: William Steinbrunn, M.D.\n",
    "University Hospital, Basel, Switzerland: Matthias Pfisterer, M.D.\n",
    "V.A. Medical Center, Long Beach and Cleveland Clinic Foundation: Robert Detrano, M.D., Ph.D.\n",
    "#### Donor:\n",
    "David W. Aha (aha '@' ics.uci.edu) (714) 856-8779"
   ]
  },
  {
   "cell_type": "markdown",
   "id": "24a37047-ec8e-4343-88b4-b5d070b3590f",
   "metadata": {},
   "source": [
    "### Import Libraries"
   ]
  },
  {
   "cell_type": "code",
   "execution_count": 1,
   "id": "b3b48261-e0ca-4708-914f-901ce45b579d",
   "metadata": {
    "tags": []
   },
   "outputs": [],
   "source": [
    "import pandas as pd\n",
    "import numpy as numpy\n",
    "from sklearn.model_selection import train_test_split\n",
    "from sklearn.naive_bayes import GaussianNB\n",
    "from sklearn.tree import DecisionTreeClassifier\n",
    "from sklearn.decomposition import PCA\n",
    "from sklearn.linear_model import LogisticRegression\n",
    "from sklearn.metrics import accuracy_score, confusion_matrix, ConfusionMatrixDisplay, precision_score, recall_score, f1_score\n",
    "import matplotlib.pyplot as plt"
   ]
  },
  {
   "cell_type": "markdown",
   "id": "439b8245-d228-4de4-bc61-274abe59287b",
   "metadata": {},
   "source": [
    "### Load Data Set"
   ]
  },
  {
   "cell_type": "code",
   "execution_count": 2,
   "id": "811f357d-3cd3-4b1a-a773-2be79047f954",
   "metadata": {
    "tags": []
   },
   "outputs": [
    {
     "name": "stdout",
     "output_type": "stream",
     "text": [
      "   Age Sex ChestPainType  RestingBP  Cholesterol  FastingBS RestingECG  MaxHR   \n",
      "0   40   M           ATA        140          289          0     Normal    172  \\\n",
      "1   49   F           NAP        160          180          0     Normal    156   \n",
      "2   37   M           ATA        130          283          0         ST     98   \n",
      "3   48   F           ASY        138          214          0     Normal    108   \n",
      "4   54   M           NAP        150          195          0     Normal    122   \n",
      "\n",
      "  ExerciseAngina  Oldpeak ST_Slope  HeartDisease  \n",
      "0              N      0.0       Up             0  \n",
      "1              N      1.0     Flat             1  \n",
      "2              N      0.0       Up             0  \n",
      "3              Y      1.5     Flat             1  \n",
      "4              N      0.0       Up             0  \n",
      "HeartDisease\n",
      "1    508\n",
      "0    410\n",
      "Name: count, dtype: int64\n",
      "HeartDisease\n",
      "0    400\n",
      "1    400\n",
      "Name: count, dtype: int64\n"
     ]
    }
   ],
   "source": [
    "def load_data(path_to_salaries_csv):\n",
    "    \n",
    "    df = pd.read_csv(path_to_salaries_csv, sep = \",\", header =0)\n",
    "    \n",
    "    return df\n",
    "\n",
    "# Load the data using our function\n",
    "heart_data = load_data('./heart.csv')\n",
    "\n",
    "# Output the first 10 rows\n",
    "print(heart_data.head())\n",
    "print(heart_data[\"HeartDisease\"].value_counts())\n",
    "# Since there is a slight class imbalance, select random 400 entries for each class\n",
    "heart_data = heart_data.groupby('HeartDisease').sample(n=400, random_state=0)\n",
    "print(heart_data[\"HeartDisease\"].value_counts())"
   ]
  },
  {
   "cell_type": "markdown",
   "id": "20a777fd-b159-471a-b338-c7a3e1f5ae2a",
   "metadata": {},
   "source": [
    "### Cleaning and Pre-processing Data"
   ]
  },
  {
   "cell_type": "code",
   "execution_count": 3,
   "id": "7b2ccf65-fa5a-4a41-8d02-eb23b2f0ec3b",
   "metadata": {
    "tags": []
   },
   "outputs": [
    {
     "name": "stdout",
     "output_type": "stream",
     "text": [
      "     Age  RestingBP  Cholesterol  FastingBS  MaxHR  ExerciseAngina  Oldpeak   \n",
      "700   42        148          244          0    178               0      0.8  \\\n",
      "121   52        125          272          0    139               0      0.0   \n",
      "640   48        130          275          0    139               0      0.2   \n",
      "844   52        118          186          0    190               0      0.0   \n",
      "705   59        140          221          0    164               1      0.0   \n",
      "\n",
      "     HeartDisease  is_F  is_M  is_ASY  is_ATA  is_NAP  is_TA  is_Down   \n",
      "700             0   0.0   1.0     0.0     0.0     0.0    1.0      0.0  \\\n",
      "121             0   1.0   0.0     0.0     0.0     1.0    0.0      0.0   \n",
      "640             0   1.0   0.0     0.0     0.0     1.0    0.0      0.0   \n",
      "844             0   0.0   1.0     0.0     0.0     0.0    1.0      0.0   \n",
      "705             0   0.0   1.0     0.0     1.0     0.0    0.0      0.0   \n",
      "\n",
      "     is_Flat  is_Up  is_LVH  is_Normal  is_ST  \n",
      "700      0.0    1.0     1.0        0.0    0.0  \n",
      "121      0.0    1.0     0.0        1.0    0.0  \n",
      "640      0.0    1.0     0.0        1.0    0.0  \n",
      "844      1.0    0.0     1.0        0.0    0.0  \n",
      "705      0.0    1.0     0.0        1.0    0.0  \n"
     ]
    }
   ],
   "source": [
    "columns_to_binarize = [\"Sex\", \"ChestPainType\", \"ST_Slope\", \"RestingECG\"]\n",
    "\n",
    "clean_heart_data = heart_data\n",
    "for column in columns_to_binarize:\n",
    "\n",
    "    # Convert column into binary fields where field name is \"is_<attribute_value>\"\n",
    "    binary_columns = pd.get_dummies(clean_heart_data[column], dtype=float, prefix=\"is\")\n",
    "\n",
    "    # Drop the old column\n",
    "    clean_heart_data = clean_heart_data.drop(column, axis=1)\n",
    "\n",
    "    # Add the binarized columns to the data\n",
    "    clean_heart_data = pd.concat([clean_heart_data, binary_columns], axis=1)\n",
    "\n",
    "# We only have one feature to map to binary\n",
    "clean_heart_data['ExerciseAngina'] = clean_heart_data['ExerciseAngina'].map({'N': 0, 'Y': 1})\n",
    "\n",
    "# Print first 5 rows of cleaned data\n",
    "print(clean_heart_data[:5])"
   ]
  },
  {
   "cell_type": "markdown",
   "id": "782980e9-14c6-4acb-9cbf-612302ea4fd5",
   "metadata": {},
   "source": [
    "### Split and Standardize Data"
   ]
  },
  {
   "cell_type": "code",
   "execution_count": 4,
   "id": "a54b2ef7-3258-4144-a5f8-0b65284b6491",
   "metadata": {
    "tags": []
   },
   "outputs": [
    {
     "name": "stdout",
     "output_type": "stream",
     "text": [
      "          Age  RestingBP  Cholesterol  FastingBS     MaxHR  ExerciseAngina   \n",
      "482  1.437954   0.452034     0.635000   1.811143 -0.513875       -0.768457  \\\n",
      "62  -0.857208   0.349416     0.191596  -0.551217  0.222910       -0.768457   \n",
      "601  0.812000   0.349416     0.769949  -0.551217 -0.591431        1.299140   \n",
      "544  0.812000   0.349416     0.904898   1.811143 -0.707766        1.299140   \n",
      "433 -0.752883  -1.189861     0.307266  -0.551217 -0.513875        1.299140   \n",
      "\n",
      "      Oldpeak      is_F      is_M    is_ASY    is_ATA    is_NAP     is_TA   \n",
      "482  1.605298 -0.520321  0.520321 -1.022759 -0.525485 -0.538367  4.516030  \\\n",
      "62  -0.800003 -0.520321  0.520321  0.976118 -0.525485 -0.538367 -0.221064   \n",
      "601  0.450753 -0.520321  0.520321 -1.022759 -0.525485  1.854374 -0.221064   \n",
      "544 -0.800003  1.918686 -1.918686 -1.022759  1.899831 -0.538367 -0.221064   \n",
      "433  1.124238 -0.520321  0.520321  0.976118 -0.525485 -0.538367 -0.221064   \n",
      "\n",
      "      is_Down   is_Flat     is_Up    is_LVH  is_Normal     is_ST  \n",
      "482 -0.267038 -0.937768  1.071737 -0.504782   0.782229 -0.462836  \n",
      "62  -0.267038 -0.937768  1.071737 -0.504782   0.782229 -0.462836  \n",
      "601 -0.267038  1.064584 -0.931510 -0.504782   0.782229 -0.462836  \n",
      "544 -0.267038 -0.937768  1.071737 -0.504782   0.782229 -0.462836  \n",
      "433 -0.267038  1.064584 -0.931510 -0.504782   0.782229 -0.462836  \n"
     ]
    }
   ],
   "source": [
    "X = clean_heart_data.loc[:, clean_heart_data.columns != 'HeartDisease']\n",
    "y = clean_heart_data['HeartDisease']\n",
    "\n",
    "X_train, X_test, y_train, y_test = train_test_split(X, y, random_state=0)\n",
    "\n",
    "# Standardize the data\n",
    "X_train_std = (X_train - X_train.mean()) / X_train.std()\n",
    "X_test_std = (X_test - X_train.mean()) / X_train.std()\n",
    "\n",
    "# Print first 5 rows of standardized data\n",
    "print(X_train_std[:5])             "
   ]
  },
  {
   "cell_type": "markdown",
   "id": "ec11aacc-6f0f-4b78-914e-a2a939fe268c",
   "metadata": {},
   "source": [
    "### Linear Regression"
   ]
  },
  {
   "cell_type": "code",
   "execution_count": 5,
   "id": "91b811b7-81c5-4e23-8f44-4b5ec39530ab",
   "metadata": {
    "tags": []
   },
   "outputs": [
    {
     "name": "stdout",
     "output_type": "stream",
     "text": [
      "Accuracy: 0.86\n"
     ]
    }
   ],
   "source": [
    "# Initialize and fit the logistic regression model\n",
    "log_model = LogisticRegression()\n",
    "log_model.fit(X_train_std, y_train)\n",
    "\n",
    "# Predict the target variable for the test set\n",
    "y_pred = log_model.predict(X_test_std)\n",
    "\n",
    "# Calculate the accuracy of the model\n",
    "accuracy = accuracy_score(y_test, y_pred)\n",
    "print('Accuracy:', accuracy)"
   ]
  },
  {
   "cell_type": "markdown",
   "id": "71b32fff-3d69-498d-9d88-85f12db6e5a6",
   "metadata": {},
   "source": [
    "### Confusion Matrix"
   ]
  },
  {
   "cell_type": "code",
   "execution_count": 6,
   "id": "5ed261ee-e214-4724-bb48-bf37d3c493e1",
   "metadata": {
    "tags": []
   },
   "outputs": [
    {
     "data": {
      "image/png": "[encoded data removed]",
      "text/plain": [
       "<Figure size 640x480 with 2 Axes>"
      ]
     },
     "metadata": {},
     "output_type": "display_data"
    }
   ],
   "source": [
    "cm = confusion_matrix(y_test, y_pred)\n",
    "disp = ConfusionMatrixDisplay(confusion_matrix=cm, display_labels=['Negative', 'Positive'])\n",
    "disp.plot(cmap='Blues')\n",
    "plt.title('Confusion Matrix')\n",
    "plt.show()"
   ]
  },
  {
   "cell_type": "code",
   "execution_count": 7,
   "id": "69d85aa8-d019-4ffe-99c8-1b13cc7f1ffe",
   "metadata": {
    "tags": []
   },
   "outputs": [
    {
     "name": "stdout",
     "output_type": "stream",
     "text": [
      "Accuracy: 0.86\n",
      "Precision: 0.8518518518518519\n",
      "Recall: 0.8846153846153846\n",
      "F1-Score: 0.8679245283018868\n"
     ]
    }
   ],
   "source": [
    "# Calculate evaluation metrics\n",
    "accuracy = accuracy_score(y_test, y_pred)\n",
    "precision = precision_score(y_test, y_pred)\n",
    "recall = recall_score(y_test, y_pred)\n",
    "f1 = f1_score(y_test, y_pred)\n",
    "\n",
    "print('Accuracy:', accuracy)\n",
    "print('Precision:', precision)\n",
    "print('Recall:', recall)\n",
    "print('F1-Score:', f1)"
   ]
  },
  {
   "cell_type": "markdown",
   "id": "d43bd37d-0c3c-4e9b-af91-26732ff289fd",
   "metadata": {},
   "source": [
    "### Naive Bayes"
   ]
  },
  {
   "cell_type": "code",
   "execution_count": 8,
   "id": "4bad3136-901e-4631-8092-72aac4ca712f",
   "metadata": {
    "tags": []
   },
   "outputs": [
    {
     "name": "stdout",
     "output_type": "stream",
     "text": [
      "Naive Bayes:\n",
      "Accuracy: 0.855\n",
      "Precision: 0.8378378378378378\n",
      "Recall: 0.8942307692307693\n",
      "F1-score: 0.8651162790697674\n"
     ]
    },
    {
     "data": {
      "image/png": "[encoded data removed]",
      "text/plain": [
       "<Figure size 640x480 with 2 Axes>"
      ]
     },
     "metadata": {},
     "output_type": "display_data"
    }
   ],
   "source": [
    "# Initialize and fit the Naive Bayes classifier\n",
    "naive_bayes = GaussianNB()\n",
    "naive_bayes.fit(X_train_std, y_train)\n",
    "\n",
    "# Predict the target variable using Naive Bayes\n",
    "y_pred_nb = naive_bayes.predict(X_test_std)\n",
    "\n",
    "# Calculate evaluation metrics\n",
    "accuracy_nb = accuracy_score(y_test, y_pred_nb)\n",
    "precision_nb = precision_score(y_test, y_pred_nb)\n",
    "recall_nb = recall_score(y_test, y_pred_nb)\n",
    "f1_nb = f1_score(y_test, y_pred_nb)\n",
    "cm_nb = confusion_matrix(y_test, y_pred_nb)\n",
    "\n",
    "print(\"Naive Bayes:\")\n",
    "print(\"Accuracy:\", accuracy_nb)\n",
    "print(\"Precision:\", precision_nb)\n",
    "print(\"Recall:\", recall_nb)\n",
    "print(\"F1-score:\", f1_nb)\n",
    "\n",
    "disp = ConfusionMatrixDisplay(confusion_matrix=cm_nb, display_labels=['Negative', 'Positive'])\n",
    "disp.plot(cmap='Greens')\n",
    "plt.title('Confusion Matrix')\n",
    "plt.show()"
   ]
  },
  {
   "cell_type": "markdown",
   "id": "eb9d018d-2a03-4d72-a623-60a811ca4ebf",
   "metadata": {},
   "source": [
    "### Decision Tree"
   ]
  },
  {
   "cell_type": "code",
   "execution_count": 9,
   "id": "5582cd00-2568-4d9a-ade6-c5e17c80d8f5",
   "metadata": {
    "tags": []
   },
   "outputs": [
    {
     "name": "stdout",
     "output_type": "stream",
     "text": [
      "Decision Tree:\n",
      "Accuracy: 0.755\n",
      "Precision: 0.7477477477477478\n",
      "Recall: 0.7980769230769231\n",
      "F1-score: 0.772093023255814\n"
     ]
    },
    {
     "data": {
      "image/png": "[encoded data removed]",
      "text/plain": [
       "<Figure size 640x480 with 2 Axes>"
      ]
     },
     "metadata": {},
     "output_type": "display_data"
    }
   ],
   "source": [
    "# Initialize and fit the Decision Tree classifier\n",
    "decision_tree = DecisionTreeClassifier()\n",
    "decision_tree.fit(X_train_std, y_train)\n",
    "\n",
    "# Predict the target variable using Decision Tree\n",
    "y_pred_dt = decision_tree.predict(X_test_std)\n",
    "\n",
    "# Calculate evaluation metrics\n",
    "accuracy_dt = accuracy_score(y_test, y_pred_dt)\n",
    "precision_dt = precision_score(y_test, y_pred_dt)\n",
    "recall_dt = recall_score(y_test, y_pred_dt)\n",
    "f1_dt = f1_score(y_test, y_pred_dt)\n",
    "cm_dt = confusion_matrix(y_test, y_pred_dt)\n",
    "\n",
    "print(\"Decision Tree:\")\n",
    "print(\"Accuracy:\", accuracy_dt)\n",
    "print(\"Precision:\", precision_dt)\n",
    "print(\"Recall:\", recall_dt)\n",
    "print(\"F1-score:\", f1_dt)\n",
    "\n",
    "disp = ConfusionMatrixDisplay(confusion_matrix=cm_dt, display_labels=['Negative', 'Positive'])\n",
    "disp.plot(cmap='Reds')\n",
    "plt.title('Confusion Matrix')\n",
    "plt.show()"
   ]
  },
  {
   "cell_type": "markdown",
   "id": "b247262c-a240-4319-98ec-0369970ef572",
   "metadata": {},
   "source": [
    "### Feature Selection using PCA"
   ]
  },
  {
   "cell_type": "code",
   "execution_count": 10,
   "id": "1dea41fa-2a11-4209-b070-8e08bd6568a0",
   "metadata": {
    "tags": []
   },
   "outputs": [
    {
     "name": "stdout",
     "output_type": "stream",
     "text": [
      "Rank 1: Age (Variance: 4.0073)\n",
      "Rank 2: RestingBP (Variance: 2.0193)\n",
      "Rank 3: Cholesterol (Variance: 1.7722)\n",
      "Rank 4: FastingBS (Variance: 1.5558)\n",
      "Rank 5: MaxHR (Variance: 1.3984)\n",
      "Rank 6: ExerciseAngina (Variance: 1.2825)\n",
      "Rank 7: Oldpeak (Variance: 1.127)\n",
      "Rank 8: is_F (Variance: 1.0605)\n",
      "Rank 9: is_M (Variance: 1.0159)\n",
      "Rank 10: is_ASY (Variance: 0.8997)\n",
      "Rank 11: is_ATA (Variance: 0.7963)\n",
      "Rank 12: is_NAP (Variance: 0.6446)\n",
      "Rank 13: is_TA (Variance: 0.5055)\n",
      "Rank 14: is_Down (Variance: 0.4875)\n",
      "Rank 15: is_Flat (Variance: 0.4274)\n",
      "Rank 16: is_Up (Variance: 0.0)\n",
      "Rank 17: is_LVH (Variance: 0.0)\n",
      "Rank 18: is_Normal (Variance: 0.0)\n",
      "Rank 19: is_ST (Variance: 0.0)\n"
     ]
    }
   ],
   "source": [
    "pca = PCA()\n",
    "pca.fit(X_train_std)\n",
    "\n",
    "# Create a dictionary to store feature names and their variances\n",
    "feature_variance = dict(zip(list(X_train_std.columns), pca.explained_variance_))\n",
    "\n",
    "# Sort the feature_variance dictionary by variances in descending order\n",
    "sorted_feature_variance = {k: v for k, v in sorted(feature_variance.items(), key=lambda feature: feature[1], reverse=True)}\n",
    "\n",
    "# Print the feature rankings\n",
    "rank = 1\n",
    "for feature, variance in sorted_feature_variance.items():\n",
    "    print(f\"Rank {rank}: {feature} (Variance: {round(variance, 4)})\")\n",
    "    rank += 1"
   ]
  },
  {
   "cell_type": "code",
   "execution_count": 11,
   "id": "229ff8a4-1bdc-44e1-9b45-47ef5555431c",
   "metadata": {
    "tags": []
   },
   "outputs": [
    {
     "name": "stdout",
     "output_type": "stream",
     "text": [
      "Number of Components: 1\n",
      "Accuracy: 0.86\n",
      "Precision: 0.8454545454545455\n",
      "Recall: 0.8942307692307693\n",
      "F1-Score: 0.8691588785046728\n",
      "\n",
      "Number of Components: 2\n",
      "Accuracy: 0.885\n",
      "Precision: 0.8785046728971962\n",
      "Recall: 0.9038461538461539\n",
      "F1-Score: 0.8909952606635071\n",
      "\n",
      "Number of Components: 3\n",
      "Accuracy: 0.87\n",
      "Precision: 0.8611111111111112\n",
      "Recall: 0.8942307692307693\n",
      "F1-Score: 0.8773584905660378\n",
      "\n",
      "Number of Components: 4\n",
      "Accuracy: 0.87\n",
      "Precision: 0.8611111111111112\n",
      "Recall: 0.8942307692307693\n",
      "F1-Score: 0.8773584905660378\n",
      "\n",
      "Number of Components: 5\n",
      "Accuracy: 0.87\n",
      "Precision: 0.8679245283018868\n",
      "Recall: 0.8846153846153846\n",
      "F1-Score: 0.8761904761904762\n",
      "\n",
      "Number of Components: 6\n",
      "Accuracy: 0.87\n",
      "Precision: 0.8679245283018868\n",
      "Recall: 0.8846153846153846\n",
      "F1-Score: 0.8761904761904762\n",
      "\n",
      "Number of Components: 7\n",
      "Accuracy: 0.88\n",
      "Precision: 0.8773584905660378\n",
      "Recall: 0.8942307692307693\n",
      "F1-Score: 0.8857142857142858\n",
      "\n",
      "Number of Components: 8\n",
      "Accuracy: 0.875\n",
      "Precision: 0.8691588785046729\n",
      "Recall: 0.8942307692307693\n",
      "F1-Score: 0.881516587677725\n",
      "\n",
      "Number of Components: 9\n",
      "Accuracy: 0.86\n",
      "Precision: 0.8584905660377359\n",
      "Recall: 0.875\n",
      "F1-Score: 0.8666666666666667\n",
      "\n",
      "Number of Components: 10\n",
      "Accuracy: 0.865\n",
      "Precision: 0.8598130841121495\n",
      "Recall: 0.8846153846153846\n",
      "F1-Score: 0.872037914691943\n",
      "\n",
      "Number of Components: 11\n",
      "Accuracy: 0.855\n",
      "Precision: 0.8571428571428571\n",
      "Recall: 0.8653846153846154\n",
      "F1-Score: 0.8612440191387559\n",
      "\n",
      "Number of Components: 12\n",
      "Accuracy: 0.85\n",
      "Precision: 0.8490566037735849\n",
      "Recall: 0.8653846153846154\n",
      "F1-Score: 0.8571428571428571\n",
      "\n",
      "Number of Components: 13\n",
      "Accuracy: 0.855\n",
      "Precision: 0.8571428571428571\n",
      "Recall: 0.8653846153846154\n",
      "F1-Score: 0.8612440191387559\n",
      "\n",
      "Number of Components: 14\n",
      "Accuracy: 0.855\n",
      "Precision: 0.8504672897196262\n",
      "Recall: 0.875\n",
      "F1-Score: 0.8625592417061612\n",
      "\n",
      "Number of Components: 15\n",
      "Accuracy: 0.86\n",
      "Precision: 0.8518518518518519\n",
      "Recall: 0.8846153846153846\n",
      "F1-Score: 0.8679245283018868\n",
      "\n",
      "Number of Components: 16\n",
      "Accuracy: 0.86\n",
      "Precision: 0.8518518518518519\n",
      "Recall: 0.8846153846153846\n",
      "F1-Score: 0.8679245283018868\n",
      "\n",
      "Number of Components: 17\n",
      "Accuracy: 0.86\n",
      "Precision: 0.8518518518518519\n",
      "Recall: 0.8846153846153846\n",
      "F1-Score: 0.8679245283018868\n",
      "\n",
      "Number of Components: 18\n",
      "Accuracy: 0.86\n",
      "Precision: 0.8518518518518519\n",
      "Recall: 0.8846153846153846\n",
      "F1-Score: 0.8679245283018868\n",
      "\n"
     ]
    }
   ],
   "source": [
    "# Iterate through components to see which number of components gets the best results\n",
    "for i in range(1,len(X_train_std.columns)):\n",
    "    pca = PCA(n_components=i)\n",
    "    X_train_pca = pca.fit_transform(X_train_std)\n",
    "\n",
    "    # Transform the test set using the same PCA model\n",
    "    X_test_pca = pca.transform(X_test_std)\n",
    "\n",
    "    # Initialize and fit the logistic regression model\n",
    "    log_model = LogisticRegression()\n",
    "    log_model.fit(X_train_pca, y_train)\n",
    "\n",
    "    # Predict the target variable for the test set\n",
    "    y_pred = log_model.predict(X_test_pca)\n",
    "\n",
    "    # Calculate the accuracy of the model\n",
    "    accuracy = accuracy_score(y_test, y_pred)\n",
    "    precision = precision_score(y_test, y_pred)\n",
    "    recall = recall_score(y_test, y_pred)\n",
    "    f1 = f1_score(y_test, y_pred)\n",
    "    \n",
    "    print('Number of Components:', i)\n",
    "    print('Accuracy:', accuracy)\n",
    "    print('Precision:', precision)\n",
    "    print('Recall:', recall)\n",
    "    print('F1-Score:', f1)\n",
    "    print('')"
   ]
  },
  {
   "cell_type": "code",
   "execution_count": null,
   "id": "66f94394-02fa-471c-97af-8bcff62819d6",
   "metadata": {},
   "outputs": [],
   "source": []
  }
 ],
 "metadata": {
  "kernelspec": {
   "display_name": "Python 3 (ipykernel)",
   "language": "python",
   "name": "python3"
  },
  "language_info": {
   "codemirror_mode": {
    "name": "ipython",
    "version": 3
   },
   "file_extension": ".py",
   "mimetype": "text/x-python",
   "name": "python",
   "nbconvert_exporter": "python",
   "pygments_lexer": "ipython3",
   "version": "3.9.16"
  }
 },
 "nbformat": 4,
 "nbformat_minor": 5
}
